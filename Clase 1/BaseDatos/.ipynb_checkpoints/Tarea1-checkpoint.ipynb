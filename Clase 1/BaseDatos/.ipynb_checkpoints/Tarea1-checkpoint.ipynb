{
 "cells": [
  {
   "cell_type": "code",
   "execution_count": 1,
   "id": "85ef7c23-63db-426a-9046-e44b70567867",
   "metadata": {},
   "outputs": [],
   "source": [
    "import pandas as pd"
   ]
  },
  {
   "cell_type": "code",
   "execution_count": 28,
   "id": "09653ced-5d0d-49be-8f9f-b5c6f4bb2eb2",
   "metadata": {},
   "outputs": [
    {
     "name": "stdout",
     "output_type": "stream",
     "text": [
      "La edad promedio total de todos los musicos es de: 40.58872651356994\n",
      "La edad promedio redondeado de todos los musicos es de: 41\n"
     ]
    }
   ],
   "source": [
    "df = pd.read_csv('musictest.csv')\n",
    "\n",
    "df['age'] = df['age'].astype(int)\n",
    "\n",
    "promedio_Total = df['age'].mean()\n",
    "promedio_Redondeado = round(df['age'].mean())\n",
    "\n",
    "print(\"La edad promedio total de todos los musicos es de:\",promedio_Total)\n",
    "print(\"La edad promedio redondeado de todos los musicos es de:\",promedio_Redondeado)"
   ]
  },
  {
   "cell_type": "code",
   "execution_count": 29,
   "id": "56f9dc2c-95b1-44ef-aa3d-429aacb48ea0",
   "metadata": {},
   "outputs": [
    {
     "name": "stdout",
     "output_type": "stream",
     "text": [
      "La edad promedio total de los pianista es de: 41.146067415730336\n",
      "La edad promedio redondeado de los pianistas es de: 41\n"
     ]
    }
   ],
   "source": [
    "df = pd.read_csv('musictest.csv')\n",
    "\n",
    "pianistas = df[df['instrument']== 'piano']\n",
    "\n",
    "edad_Total = pianistas['age'].mean()\n",
    "edad_Redondeada = round(pianistas['age'].mean())\n",
    "\n",
    "print(\"La edad promedio total de los pianista es de:\",edad_Total)\n",
    "print(\"La edad promedio redondeado de los pianistas es de:\",edad_Redondeada)"
   ]
  },
  {
   "cell_type": "code",
   "execution_count": null,
   "id": "60358c04-bc10-4014-9ffe-8437e4217bd4",
   "metadata": {},
   "outputs": [],
   "source": []
  }
 ],
 "metadata": {
  "kernelspec": {
   "display_name": "Python 3 (ipykernel)",
   "language": "python",
   "name": "python3"
  },
  "language_info": {
   "codemirror_mode": {
    "name": "ipython",
    "version": 3
   },
   "file_extension": ".py",
   "mimetype": "text/x-python",
   "name": "python",
   "nbconvert_exporter": "python",
   "pygments_lexer": "ipython3",
   "version": "3.9.18"
  }
 },
 "nbformat": 4,
 "nbformat_minor": 5
}
