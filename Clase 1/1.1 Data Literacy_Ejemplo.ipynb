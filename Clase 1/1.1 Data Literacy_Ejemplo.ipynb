{
 "cells": [
  {
   "cell_type": "markdown",
   "id": "eb741051-d0fa-4305-8b18-9c2205ad8bdb",
   "metadata": {},
   "source": [
    "# Introducción\n",
    "Imaginemos que estamos trabajando para el gobierno de la ciudad ficticia de Melody Metropolis. El alcalde de Melody Metrópolis quiere saber más sobre los músicos que actualmente viven en la ciudad. El entorno de aprendizaje muestra un conjunto de datos que tenemos sobre los músicos que viven en la ciudad a partir del año pasado. ¿Cómo describiría este conjunto de datos? Vea si puede responder alguna de las siguientes preguntas:\n",
    "\n",
    "* ¿Cómo son los ingresos de un músico típico?\n",
    "* ¿Hay una amplia gama de edades de músicos?\n",
    "* ¿Qué proporción de los músicos en el conjunto de datos tocan la guitarra?\n",
    "\n",
    "Podemos intentar hacer generalizaciones mirando las filas y columnas, pero es difícil responder a estas preguntas con precisión. Necesitamos algún tipo de \"vocabulario de datos\" que pueda ayudarnos a medir y describir las variables en el conjunto de datos. ¡Las estadísticas de resumen se pueden usar exactamente para este propósito!\n",
    "\n",
    "Con una comprensión básica de las estadísticas de resumen, podemos comunicar y comprender información mucho más específica sobre los músicos de la ciudad. Pero el aprendizaje de estadísticas a menudo se asocia con mucha negatividad:\n",
    "\n",
    "* Memorización de muchas fórmulas matemáticas\n",
    "* Cálculos largos hechos a mano\n",
    "* Interpretaciones confusas o sin sentido\n",
    "\n",
    "Ninguna de estas luchas necesita ser parte del aprendizaje de usar estadísticas. En esta lección, obtendremos una comprensión conceptual de cómo las estadísticas de resumen pueden ayudarnos fácilmente a comunicar e interpretar nuestro conjunto de datos.\n",
    "\n",
    "### Entendiendo el Dato\n",
    "Familiarícese con los siguientes nombres y descripciones de las variables del conjunto de datos (musictest.csv):\n",
    "\n",
    "age: edad en años\n",
    "income: Ingresos anuales en dólares estadounidenses\n",
    "title: Título del trabajo principal\n",
    "experience: años de experiencia en el campo de la música\n",
    "instrument: instrumento primario\n",
    "band: si en una banda (1 = , 0 = no)\n",
    "\n",
    "¿Qué te interesa aprender sobre los músicos de Melody Metropolis?"
   ]
  },
  {
   "cell_type": "markdown",
   "id": "0cd30455-8d58-4a3e-953d-6ae8338e9607",
   "metadata": {},
   "source": [
    "## Descripción de variables categóricas\n",
    "Para comenzar nuestro resumen para el alcalde, describamos algunas de las variables categóricas en el conjunto de datos de músicos, aquellas variables que contienen información cualitativa sobre los músicos de la ciudad. Primero, veamos la información sobre el *título* variable, que nos indica el título de trabajo que tiene cada músico.\n",
    "\n",
    "La siguiente tabla muestra:\n",
    "\n",
    "**Frecuencia**: el recuento de músicos para cada título de trabajo\n",
    "**Proporción**: la frecuencia dividida por el número total de músicos\n",
    "**Porcentaje**: la proporción convertida de un decimal a un porcentaje\n",
    "\n",
    "|Titulo del trabajo|Fecuencia|Proporcion|Porcentaje| \n",
    "|---|---|---|---|\n",
    "|Interpretes|333|0.35|35%| \n",
    "|Manejador|113|0.12|12%| \n",
    "|Productor|87|0.09|9%| \n",
    "|Educador|239|0.25|25%| \n",
    "|Compositor|186|0.19|19%| \n",
    "|Total|958|1.00|100%|\n",
    "\n",
    "De la tabla, podemos aprender sobre los diferentes títulos de trabajo de los músicos en la ciudad. Hay 333 intérpretes de un total de 958 músicos. La proporción de artistas intérpretes o ejecutantes es de 333 ÷ 958 = 0,35. Para que esto sea aún más fácil de entender, podemos convertir la proporción en un porcentaje multiplicándolo por 100: el 35% de los músicos de la ciudad son intérpretes.\n",
    "\n",
    "También podemos comparar una categoría con otra comprobando la relación de sus frecuencias. Por ejemplo, hay muchos menos gerentes que artistas. Su proporción es de 333 ejecutantes a 113 gerentes, que puede simplificarse dividiendo: 333 ÷ 113 = 2.95. Esto significa que hay casi 3 artistas por cada gerente en la ciudad.\n",
    "\n",
    "Intente encontrar algunas otras proporciones de la tabla:\n",
    "\n",
    "**¿Cuál es la proporción de educadores a compositores?**\n",
    "\n",
    "La proporción es de 239 educadores por 186 compositores. Simplificada, esta proporción es de 239 ÷ 186 = 1.28, que es poco más de 1 educador por cada compositor. No hay muchos más educadores que compositores en la ciudad.\n",
    "\n",
    "**¿Cuál es la proporción entre artistas intérpretes o ejecutantes y productores?**\n",
    "\n",
    "La proporción es de 333 artistas intérpretes o ejecutantes por 87 productores. Simplificada, esta proporción es de 333 ÷ 87 = 3.83, lo que significa que hay alrededor de 4 artistas intérpretes por cada productor.\n",
    "\n",
    "**Complete el siguiente cuadro**\n",
    "\n",
    "|INSTRUMENTO|FRECUENCIA|PROPORCION|PORCENTAJE|\n",
    "|--|--|--|--|\n",
    "|Vocalista|262|0.27| |\n",
    "|Guitarrista|278| |29%|\n",
    "|Pianista|178| |19%|\n",
    "|Bateria|135|0.14| |\t\n",
    "|Saxofone|48| |5%|\n",
    "|Violin|57|0.06| |\n",
    "|TOTAL|958|1.00|100%|"
   ]
  },
  {
   "cell_type": "code",
   "execution_count": null,
   "id": "da2be99f-6965-42ed-b301-6df898ed627b",
   "metadata": {},
   "outputs": [],
   "source": []
  }
 ],
 "metadata": {
  "kernelspec": {
   "display_name": "Python 3 (ipykernel)",
   "language": "python",
   "name": "python3"
  },
  "language_info": {
   "codemirror_mode": {
    "name": "ipython",
    "version": 3
   },
   "file_extension": ".py",
   "mimetype": "text/x-python",
   "name": "python",
   "nbconvert_exporter": "python",
   "pygments_lexer": "ipython3",
   "version": "3.9.18"
  }
 },
 "nbformat": 4,
 "nbformat_minor": 5
}
