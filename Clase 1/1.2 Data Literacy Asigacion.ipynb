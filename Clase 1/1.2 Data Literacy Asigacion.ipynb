{
 "cells": [
  {
   "cell_type": "markdown",
   "id": "92b707a4-78d3-4058-acd0-46251793f0fa",
   "metadata": {},
   "source": [
    "**Utilizando el archivo musictest.csv, realice una tabla y responda con formulas y comprobaciones las siguentes preguntas:**\n",
    "\n",
    "1. ¿Edad promedio de todos los musicos?\n",
    "2. ¿Edad promedio de los pianistas?\n",
    "3. ¿Edad promedio de los guitarristas?\n",
    "4. ¿Edad promedio de los baterista?\n",
    "5. ¿Cuantos compositores hay por cada productor?\n",
    "6. ¿Cuantos Manejadores hay por cada productor?\n",
    "7. ¿Cuantos educadores hay por la cantidad de musicos?\n",
    "8. ¿Que proporcion de guitarrista toca en una banda?\n",
    "9. ¿Elaborar una tabla de las escala salariales sumarizada de mayor a menor por cada tipo musicos?\n",
    "\n",
    "*Realizar los siguientes graficos*\n",
    "1. Distribucion de salarios por montos\n",
    "2. Cuanto años de experiencia tienen los musicos por tipo de instrumentos"
   ]
  },
  {
   "cell_type": "markdown",
   "id": "4b72fbf7-9300-4c02-ac3e-658df81ec0b2",
   "metadata": {},
   "source": [
    "Explicar y presentar su estudio de los datos.\n",
    "\n",
    "Entregar en formato PDF"
   ]
  },
  {
   "cell_type": "code",
   "execution_count": null,
   "id": "37987cd5-2621-456c-807b-1bebfd7a81e5",
   "metadata": {},
   "outputs": [],
   "source": []
  }
 ],
 "metadata": {
  "kernelspec": {
   "display_name": "Python 3 (ipykernel)",
   "language": "python",
   "name": "python3"
  },
  "language_info": {
   "codemirror_mode": {
    "name": "ipython",
    "version": 3
   },
   "file_extension": ".py",
   "mimetype": "text/x-python",
   "name": "python",
   "nbconvert_exporter": "python",
   "pygments_lexer": "ipython3",
   "version": "3.9.18"
  }
 },
 "nbformat": 4,
 "nbformat_minor": 5
}
